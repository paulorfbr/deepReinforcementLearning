{
  "nbformat": 4,
  "nbformat_minor": 0,
  "metadata": {
    "colab": {
      "provenance": [],
      "gpuType": "T4",
      "authorship_tag": "ABX9TyOSliKtQrKiw6Mz460CcIYJ",
      "include_colab_link": true
    },
    "kernelspec": {
      "name": "python3",
      "display_name": "Python 3"
    },
    "language_info": {
      "name": "python"
    }
  },
  "cells": [
    {
      "cell_type": "markdown",
      "metadata": {
        "id": "view-in-github",
        "colab_type": "text"
      },
      "source": [
        "<a href=\"https://colab.research.google.com/github/paulorfbr/deepReinforcementLearning/blob/cart-pole/OpenGym_CartPole.ipynb\" target=\"_parent\"><img src=\"https://colab.research.google.com/assets/colab-badge.svg\" alt=\"Open In Colab\"/></a>"
      ]
    },
    {
      "cell_type": "code",
      "execution_count": 1,
      "metadata": {
        "colab": {
          "base_uri": "https://localhost:8080/"
        },
        "id": "AVc3FCHPmTF_",
        "outputId": "7518e76f-d585-4027-c9d9-cf66b4512a17"
      },
      "outputs": [
        {
          "output_type": "stream",
          "name": "stdout",
          "text": [
            "Requirement already satisfied: gym in /usr/local/lib/python3.10/dist-packages (0.25.2)\n",
            "Requirement already satisfied: numpy>=1.18.0 in /usr/local/lib/python3.10/dist-packages (from gym) (1.25.2)\n",
            "Requirement already satisfied: cloudpickle>=1.2.0 in /usr/local/lib/python3.10/dist-packages (from gym) (2.2.1)\n",
            "Requirement already satisfied: gym-notices>=0.0.4 in /usr/local/lib/python3.10/dist-packages (from gym) (0.0.8)\n"
          ]
        }
      ],
      "source": [
        "!pip install gym"
      ]
    },
    {
      "cell_type": "code",
      "source": [
        "import gym"
      ],
      "metadata": {
        "id": "6Hjsebulm_4N"
      },
      "execution_count": 2,
      "outputs": []
    },
    {
      "cell_type": "code",
      "source": [
        "env = gym.make('CartPole-v0')"
      ],
      "metadata": {
        "colab": {
          "base_uri": "https://localhost:8080/"
        },
        "id": "f4RyiJs9nC7c",
        "outputId": "12d812e1-3c58-42fa-d455-0ddb5ad375fa"
      },
      "execution_count": 3,
      "outputs": [
        {
          "output_type": "stream",
          "name": "stderr",
          "text": [
            "/usr/local/lib/python3.10/dist-packages/ipykernel/ipkernel.py:283: DeprecationWarning: `should_run_async` will not call `transform_cell` automatically in the future. Please pass the result to `transformed_cell` argument and any exception that happen during thetransform in `preprocessing_exc_tuple` in IPython 7.17 and above.\n",
            "  and should_run_async(code)\n",
            "/usr/local/lib/python3.10/dist-packages/gym/envs/registration.py:593: UserWarning: \u001b[33mWARN: The environment CartPole-v0 is out of date. You should consider upgrading to version `v1`.\u001b[0m\n",
            "  logger.warn(\n",
            "/usr/local/lib/python3.10/dist-packages/gym/core.py:317: DeprecationWarning: \u001b[33mWARN: Initializing wrapper in old step API which returns one bool instead of two. It is recommended to set `new_step_api=True` to use new step API. This will be the default behaviour in future.\u001b[0m\n",
            "  deprecation(\n",
            "/usr/local/lib/python3.10/dist-packages/gym/wrappers/step_api_compatibility.py:39: DeprecationWarning: \u001b[33mWARN: Initializing environment in old step API which returns one bool instead of two. It is recommended to set `new_step_api=True` to use new step API. This will be the default behaviour in future.\u001b[0m\n",
            "  deprecation(\n"
          ]
        }
      ]
    },
    {
      "cell_type": "code",
      "source": [
        "env.reset()"
      ],
      "metadata": {
        "colab": {
          "base_uri": "https://localhost:8080/"
        },
        "id": "R4wX_nqenFhD",
        "outputId": "bef5998f-b81e-4277-a16e-a0aa334bc5d2"
      },
      "execution_count": 4,
      "outputs": [
        {
          "output_type": "execute_result",
          "data": {
            "text/plain": [
              "array([-0.02478929, -0.03781115, -0.02784754, -0.03393257], dtype=float32)"
            ]
          },
          "metadata": {},
          "execution_count": 4
        }
      ]
    },
    {
      "cell_type": "code",
      "source": [
        "# what do the state variables mean?\n",
        "# Num Observation Min Max\n",
        "# 0 Cart Position -2.4  2.4\n",
        "# 1 Cart Velocity -Inf  Inf\n",
        "# 2 Pole Angle  ~ -41.8°  ~ 41.8°\n",
        "# 3 Pole Velocity At Tip  -Inf  Inf\n"
      ],
      "metadata": {
        "id": "HqqKZxGUnIPx"
      },
      "execution_count": 5,
      "outputs": []
    },
    {
      "cell_type": "code",
      "source": [
        "box = env.observation_space"
      ],
      "metadata": {
        "id": "hyhbPaumnMPO"
      },
      "execution_count": 6,
      "outputs": []
    },
    {
      "cell_type": "code",
      "source": [
        "box"
      ],
      "metadata": {
        "colab": {
          "base_uri": "https://localhost:8080/"
        },
        "id": "ziT7C8ginowW",
        "outputId": "b0be494c-3e74-4904-beb0-f6c9508c730c"
      },
      "execution_count": 7,
      "outputs": [
        {
          "output_type": "execute_result",
          "data": {
            "text/plain": [
              "Box([-4.8000002e+00 -3.4028235e+38 -4.1887903e-01 -3.4028235e+38], [4.8000002e+00 3.4028235e+38 4.1887903e-01 3.4028235e+38], (4,), float32)"
            ]
          },
          "metadata": {},
          "execution_count": 7
        }
      ]
    },
    {
      "cell_type": "code",
      "source": [
        "env.action_space"
      ],
      "metadata": {
        "colab": {
          "base_uri": "https://localhost:8080/"
        },
        "id": "Md3Rln1xnuLu",
        "outputId": "2e2ec29b-4267-4333-ca63-bbd0d0619436"
      },
      "execution_count": 8,
      "outputs": [
        {
          "output_type": "execute_result",
          "data": {
            "text/plain": [
              "Discrete(2)"
            ]
          },
          "metadata": {},
          "execution_count": 8
        }
      ]
    },
    {
      "cell_type": "code",
      "source": [
        "# pick an action\n",
        "action = env.action_space.sample()"
      ],
      "metadata": {
        "id": "bNyyNL7xny3X"
      },
      "execution_count": 9,
      "outputs": []
    },
    {
      "cell_type": "code",
      "source": [
        "# do an action\n",
        "observation, reward, done, info = env.step(action)"
      ],
      "metadata": {
        "colab": {
          "base_uri": "https://localhost:8080/"
        },
        "id": "ckHIzwzMn5YV",
        "outputId": "634b2a17-1d86-471b-c2f3-f528bcbcae86"
      },
      "execution_count": 10,
      "outputs": [
        {
          "output_type": "stream",
          "name": "stderr",
          "text": [
            "/usr/local/lib/python3.10/dist-packages/gym/utils/passive_env_checker.py:241: DeprecationWarning: `np.bool8` is a deprecated alias for `np.bool_`.  (Deprecated NumPy 1.24)\n",
            "  if not isinstance(terminated, (bool, np.bool8)):\n"
          ]
        }
      ]
    },
    {
      "cell_type": "code",
      "source": [
        "env.action_space"
      ],
      "metadata": {
        "colab": {
          "base_uri": "https://localhost:8080/"
        },
        "id": "7XbbnuBOoUEd",
        "outputId": "c4ecc407-12a6-47c7-998c-8ab729cb5383"
      },
      "execution_count": 11,
      "outputs": [
        {
          "output_type": "execute_result",
          "data": {
            "text/plain": [
              "Discrete(2)"
            ]
          },
          "metadata": {},
          "execution_count": 11
        }
      ]
    },
    {
      "cell_type": "code",
      "source": [
        "#0 push to the left\n",
        "#1 push to the right"
      ],
      "metadata": {
        "id": "fcR889G5oYJv"
      },
      "execution_count": 12,
      "outputs": []
    },
    {
      "cell_type": "code",
      "source": [
        "# run through an episode\n",
        "done = False\n",
        "while not done:\n",
        "  observation, reward, done, _ = env.step(env.action_space.sample())"
      ],
      "metadata": {
        "id": "NDOBEkcBn8Q5"
      },
      "execution_count": 13,
      "outputs": []
    },
    {
      "cell_type": "markdown",
      "source": [
        "**Random Search**"
      ],
      "metadata": {
        "id": "NgDjsXAYo33o"
      }
    },
    {
      "cell_type": "code",
      "source": [
        "import gym\n",
        "from gym import wrappers\n",
        "import numpy as np\n",
        "import matplotlib.pyplot as plt"
      ],
      "metadata": {
        "id": "ra-ZPsn8oAXO"
      },
      "execution_count": 14,
      "outputs": []
    },
    {
      "cell_type": "code",
      "source": [
        "def get_action(s, w):\n",
        "  return 1 if s.dot(w) > 0 else 0"
      ],
      "metadata": {
        "id": "IuaBgg_2o-MJ"
      },
      "execution_count": 15,
      "outputs": []
    },
    {
      "cell_type": "code",
      "source": [
        "def play_one_episode(env, params):\n",
        "  observation = env.reset()\n",
        "  done = False\n",
        "  t = 0\n",
        "\n",
        "  while not done and t < 10000:\n",
        "    # env.render()\n",
        "    t += 1\n",
        "    action = get_action(observation, params)\n",
        "    observation, reward, done, info = env.step(action)\n",
        "    if done:\n",
        "      break\n",
        "\n",
        "  return t"
      ],
      "metadata": {
        "id": "W--6JUecpABp"
      },
      "execution_count": 16,
      "outputs": []
    },
    {
      "cell_type": "code",
      "source": [
        "def play_multiple_episodes(env, T, params):\n",
        "  episode_lengths = np.empty(T)\n",
        "\n",
        "  for i in range(T):\n",
        "    episode_lengths[i] = play_one_episode(env, params)\n",
        "\n",
        "  avg_length = episode_lengths.mean()\n",
        "  print(\"avg length:\", avg_length)\n",
        "  return avg_length"
      ],
      "metadata": {
        "id": "NMFQ2e10pGMK"
      },
      "execution_count": 17,
      "outputs": []
    },
    {
      "cell_type": "code",
      "source": [
        "def random_search(env):\n",
        "  episode_lengths = []\n",
        "  best = 0\n",
        "  params = None\n",
        "  for t in range(100):\n",
        "    new_params = np.random.random(4)*2 - 1\n",
        "    avg_length = play_multiple_episodes(env, 100, new_params)\n",
        "    episode_lengths.append(avg_length)\n",
        "\n",
        "    if avg_length > best:\n",
        "      params = new_params\n",
        "      best = avg_length\n",
        "  return episode_lengths, params"
      ],
      "metadata": {
        "id": "65P6fec-pM25"
      },
      "execution_count": 18,
      "outputs": []
    },
    {
      "cell_type": "code",
      "source": [
        "env = gym.make('CartPole-v0')\n",
        "episode_lengths, params = random_search(env)\n",
        "plt.plot(episode_lengths)\n",
        "plt.show()\n",
        "\n",
        "# play a final set of episodes\n",
        "print(\"***Final run with final weights***\")\n",
        "# env = wrappers.Monitor(env, 'cart-pole')\n",
        "env = wrappers.RecordVideo(env, 'cart-pole')\n",
        "play_multiple_episodes(env, 100, params)"
      ],
      "metadata": {
        "colab": {
          "base_uri": "https://localhost:8080/",
          "height": 1000
        },
        "id": "XYGbGnL-pQ0D",
        "outputId": "ae9bec03-2f2d-4ebf-b00a-9c2606046e90"
      },
      "execution_count": 19,
      "outputs": [
        {
          "output_type": "stream",
          "name": "stdout",
          "text": [
            "avg length: 87.35\n",
            "avg length: 32.95\n",
            "avg length: 8.89\n",
            "avg length: 199.89\n",
            "avg length: 9.03\n",
            "avg length: 9.22\n",
            "avg length: 200.0\n",
            "avg length: 9.07\n",
            "avg length: 9.31\n",
            "avg length: 9.14\n",
            "avg length: 9.02\n",
            "avg length: 9.02\n",
            "avg length: 9.25\n",
            "avg length: 69.04\n",
            "avg length: 119.18\n",
            "avg length: 94.82\n",
            "avg length: 152.92\n",
            "avg length: 9.03\n",
            "avg length: 8.83\n",
            "avg length: 9.5\n",
            "avg length: 27.25\n",
            "avg length: 9.17\n",
            "avg length: 8.87\n",
            "avg length: 8.99\n",
            "avg length: 115.05\n",
            "avg length: 47.23\n",
            "avg length: 182.93\n",
            "avg length: 97.19\n",
            "avg length: 28.87\n",
            "avg length: 113.37\n",
            "avg length: 9.35\n",
            "avg length: 9.57\n",
            "avg length: 50.43\n",
            "avg length: 138.26\n",
            "avg length: 70.11\n",
            "avg length: 9.62\n",
            "avg length: 9.18\n",
            "avg length: 82.79\n",
            "avg length: 12.54\n",
            "avg length: 75.35\n",
            "avg length: 9.2\n",
            "avg length: 9.8\n",
            "avg length: 179.65\n",
            "avg length: 200.0\n",
            "avg length: 9.09\n",
            "avg length: 9.39\n",
            "avg length: 8.97\n",
            "avg length: 200.0\n",
            "avg length: 68.93\n",
            "avg length: 9.32\n",
            "avg length: 9.35\n",
            "avg length: 124.67\n",
            "avg length: 9.51\n",
            "avg length: 9.61\n",
            "avg length: 162.88\n",
            "avg length: 18.88\n",
            "avg length: 129.42\n",
            "avg length: 23.88\n",
            "avg length: 49.21\n",
            "avg length: 9.13\n",
            "avg length: 81.63\n",
            "avg length: 9.38\n",
            "avg length: 9.45\n",
            "avg length: 41.01\n",
            "avg length: 82.87\n",
            "avg length: 9.51\n",
            "avg length: 29.03\n",
            "avg length: 9.72\n",
            "avg length: 20.49\n",
            "avg length: 8.94\n",
            "avg length: 9.58\n",
            "avg length: 197.98\n",
            "avg length: 9.62\n",
            "avg length: 45.81\n",
            "avg length: 9.64\n",
            "avg length: 89.27\n",
            "avg length: 85.44\n",
            "avg length: 9.14\n",
            "avg length: 9.62\n",
            "avg length: 9.28\n",
            "avg length: 25.23\n",
            "avg length: 105.48\n",
            "avg length: 58.26\n",
            "avg length: 20.7\n",
            "avg length: 9.12\n",
            "avg length: 77.86\n",
            "avg length: 9.18\n",
            "avg length: 9.01\n",
            "avg length: 37.49\n",
            "avg length: 8.97\n",
            "avg length: 61.88\n",
            "avg length: 9.66\n",
            "avg length: 77.27\n",
            "avg length: 9.35\n",
            "avg length: 200.0\n",
            "avg length: 14.77\n",
            "avg length: 9.2\n",
            "avg length: 9.15\n",
            "avg length: 31.87\n",
            "avg length: 34.66\n"
          ]
        },
        {
          "output_type": "display_data",
          "data": {
            "text/plain": [
              "<Figure size 640x480 with 1 Axes>"
            ],
            "image/png": "[encoded data removed]"
          },
          "metadata": {}
        },
        {
          "output_type": "stream",
          "name": "stdout",
          "text": [
            "***Final run with final weights***\n"
          ]
        },
        {
          "output_type": "stream",
          "name": "stderr",
          "text": [
            "/usr/local/lib/python3.10/dist-packages/gym/wrappers/record_video.py:78: UserWarning: \u001b[33mWARN: Overwriting existing videos at /content/cart-pole folder (try specifying a different `video_folder` for the `RecordVideo` wrapper if this is not desired)\u001b[0m\n",
            "  logger.warn(\n",
            "/usr/local/lib/python3.10/dist-packages/gym/wrappers/monitoring/video_recorder.py:78: DeprecationWarning: \u001b[33mWARN: Recording ability for environment CartPole-v0 initialized with `render_mode=None` is marked as deprecated and will be removed in the future.\u001b[0m\n",
            "  logger.deprecation(\n",
            "/usr/local/lib/python3.10/dist-packages/gym/core.py:43: DeprecationWarning: \u001b[33mWARN: The argument mode in render method is deprecated; use render_mode during environment initialization instead.\n",
            "See here for more information: https://www.gymlibrary.ml/content/api/\u001b[0m\n",
            "  deprecation(\n",
            "/usr/local/lib/python3.10/dist-packages/gym/core.py:43: DeprecationWarning: \u001b[33mWARN: The argument mode in render method is deprecated; use render_mode during environment initialization instead.\n",
            "See here for more information: https://www.gymlibrary.ml/content/api/\u001b[0m\n",
            "  deprecation(\n",
            "/usr/local/lib/python3.10/dist-packages/gym/wrappers/monitoring/video_recorder.py:78: DeprecationWarning: \u001b[33mWARN: Recording ability for environment CartPole-v0 initialized with `render_mode=None` is marked as deprecated and will be removed in the future.\u001b[0m\n",
            "  logger.deprecation(\n",
            "/usr/local/lib/python3.10/dist-packages/gym/core.py:43: DeprecationWarning: \u001b[33mWARN: The argument mode in render method is deprecated; use render_mode during environment initialization instead.\n",
            "See here for more information: https://www.gymlibrary.ml/content/api/\u001b[0m\n",
            "  deprecation(\n",
            "/usr/local/lib/python3.10/dist-packages/gym/wrappers/monitoring/video_recorder.py:78: DeprecationWarning: \u001b[33mWARN: Recording ability for environment CartPole-v0 initialized with `render_mode=None` is marked as deprecated and will be removed in the future.\u001b[0m\n",
            "  logger.deprecation(\n",
            "/usr/local/lib/python3.10/dist-packages/gym/core.py:43: DeprecationWarning: \u001b[33mWARN: The argument mode in render method is deprecated; use render_mode during environment initialization instead.\n",
            "See here for more information: https://www.gymlibrary.ml/content/api/\u001b[0m\n",
            "  deprecation(\n",
            "/usr/local/lib/python3.10/dist-packages/gym/wrappers/monitoring/video_recorder.py:78: DeprecationWarning: \u001b[33mWARN: Recording ability for environment CartPole-v0 initialized with `render_mode=None` is marked as deprecated and will be removed in the future.\u001b[0m\n",
            "  logger.deprecation(\n",
            "/usr/local/lib/python3.10/dist-packages/gym/core.py:43: DeprecationWarning: \u001b[33mWARN: The argument mode in render method is deprecated; use render_mode during environment initialization instead.\n",
            "See here for more information: https://www.gymlibrary.ml/content/api/\u001b[0m\n",
            "  deprecation(\n",
            "/usr/local/lib/python3.10/dist-packages/gym/wrappers/monitoring/video_recorder.py:78: DeprecationWarning: \u001b[33mWARN: Recording ability for environment CartPole-v0 initialized with `render_mode=None` is marked as deprecated and will be removed in the future.\u001b[0m\n",
            "  logger.deprecation(\n",
            "/usr/local/lib/python3.10/dist-packages/gym/core.py:43: DeprecationWarning: \u001b[33mWARN: The argument mode in render method is deprecated; use render_mode during environment initialization instead.\n",
            "See here for more information: https://www.gymlibrary.ml/content/api/\u001b[0m\n",
            "  deprecation(\n"
          ]
        },
        {
          "output_type": "stream",
          "name": "stdout",
          "text": [
            "avg length: 200.0\n"
          ]
        },
        {
          "output_type": "execute_result",
          "data": {
            "text/plain": [
              "200.0"
            ]
          },
          "metadata": {},
          "execution_count": 19
        }
      ]
    },
    {
      "cell_type": "markdown",
      "source": [
        "**Q learning bins**"
      ],
      "metadata": {
        "id": "tOYfpfgYsYo0"
      }
    },
    {
      "cell_type": "code",
      "source": [
        "import gym\n",
        "import os\n",
        "import sys\n",
        "import numpy as np\n",
        "import pandas as pd\n",
        "import matplotlib.pyplot as plt\n",
        "from gym import wrappers\n",
        "from datetime import datetime"
      ],
      "metadata": {
        "colab": {
          "base_uri": "https://localhost:8080/"
        },
        "id": "RuBdzwaLpCKk",
        "outputId": "e59be00c-5d42-4e65-85cf-e77f56d354a2"
      },
      "execution_count": 20,
      "outputs": [
        {
          "output_type": "stream",
          "name": "stderr",
          "text": [
            "/usr/local/lib/python3.10/dist-packages/ipykernel/ipkernel.py:283: DeprecationWarning: `should_run_async` will not call `transform_cell` automatically in the future. Please pass the result to `transformed_cell` argument and any exception that happen during thetransform in `preprocessing_exc_tuple` in IPython 7.17 and above.\n",
            "  and should_run_async(code)\n"
          ]
        }
      ]
    },
    {
      "cell_type": "code",
      "source": [
        "# turns list of integers into an int\n",
        "# Ex.\n",
        "# build_state([1,2,3,4,5]) -> 12345\n",
        "def build_state(features):\n",
        "  return int(\"\".join(map(lambda feature: str(int(feature)), features)))\n",
        "\n",
        "def to_bin(value, bins):\n",
        "  return np.digitize(x=[value], bins=bins)[0]"
      ],
      "metadata": {
        "colab": {
          "base_uri": "https://localhost:8080/"
        },
        "id": "nIeWKqK7sfYO",
        "outputId": "3aa2b312-2505-4547-c046-b3973e3bc3d7"
      },
      "execution_count": 21,
      "outputs": [
        {
          "output_type": "stream",
          "name": "stderr",
          "text": [
            "/usr/local/lib/python3.10/dist-packages/ipykernel/ipkernel.py:283: DeprecationWarning: `should_run_async` will not call `transform_cell` automatically in the future. Please pass the result to `transformed_cell` argument and any exception that happen during thetransform in `preprocessing_exc_tuple` in IPython 7.17 and above.\n",
            "  and should_run_async(code)\n"
          ]
        }
      ]
    },
    {
      "cell_type": "code",
      "source": [
        "class FeatureTransformer:\n",
        "  def __init__(self):\n",
        "    # Note: to make this better you could look at how often each bin was\n",
        "    # actually used while running the script.\n",
        "    # It's not clear from the high/low values nor sample() what values\n",
        "    # we really expect to get.\n",
        "    self.cart_position_bins = np.linspace(-2.4, 2.4, 9)\n",
        "    self.cart_velocity_bins = np.linspace(-2, 2, 9) # (-inf, inf) (I did not check that these were good values)\n",
        "    self.pole_angle_bins = np.linspace(-0.4, 0.4, 9)\n",
        "    self.pole_velocity_bins = np.linspace(-3.5, 3.5, 9) # (-inf, inf) (I did not check that these were good values)\n",
        "\n",
        "  def transform(self, observation):\n",
        "    # returns an int\n",
        "    cart_pos, cart_vel, pole_angle, pole_vel = observation\n",
        "    return build_state([\n",
        "      to_bin(cart_pos, self.cart_position_bins),\n",
        "      to_bin(cart_vel, self.cart_velocity_bins),\n",
        "      to_bin(pole_angle, self.pole_angle_bins),\n",
        "      to_bin(pole_vel, self.pole_velocity_bins),\n",
        "    ])"
      ],
      "metadata": {
        "id": "wVvA4Th4skgo"
      },
      "execution_count": 22,
      "outputs": []
    },
    {
      "cell_type": "code",
      "source": [
        "class Model:\n",
        "  def __init__(self, env, feature_transformer):\n",
        "    self.env = env\n",
        "    self.feature_transformer = feature_transformer\n",
        "\n",
        "    num_states = 10**env.observation_space.shape[0]\n",
        "    num_actions = env.action_space.n\n",
        "    self.Q = np.random.uniform(low=-1, high=1, size=(num_states, num_actions))\n",
        "\n",
        "  def predict(self, s):\n",
        "    x = self.feature_transformer.transform(s)\n",
        "    return self.Q[x]\n",
        "\n",
        "  def update(self, s, a, G):\n",
        "    x = self.feature_transformer.transform(s)\n",
        "    self.Q[x,a] += 1e-2*(G - self.Q[x,a])\n",
        "\n",
        "  def sample_action(self, s, eps):\n",
        "    if np.random.random() < eps:\n",
        "      return self.env.action_space.sample()\n",
        "    else:\n",
        "      p = self.predict(s)\n",
        "      return np.argmax(p)\n"
      ],
      "metadata": {
        "id": "yqSJBU6Csr9B"
      },
      "execution_count": 23,
      "outputs": []
    },
    {
      "cell_type": "code",
      "source": [
        "def play_one(model, eps, gamma):\n",
        "  observation = env.reset()\n",
        "  done = False\n",
        "  totalreward = 0\n",
        "  iters = 0\n",
        "  while not done and iters < 10000:\n",
        "    action = model.sample_action(observation, eps)\n",
        "    prev_observation = observation\n",
        "    observation, reward, done, info = env.step(action)\n",
        "\n",
        "    totalreward += reward\n",
        "\n",
        "    if done and iters < 199:\n",
        "      reward = -300\n",
        "\n",
        "    # update the model\n",
        "    G = reward + gamma*np.max(model.predict(observation))\n",
        "    model.update(prev_observation, action, G)\n",
        "\n",
        "    iters += 1\n",
        "\n",
        "  return totalreward\n",
        "\n",
        "\n",
        "def plot_running_avg(totalrewards):\n",
        "  N = len(totalrewards)\n",
        "  running_avg = np.empty(N)\n",
        "  for t in range(N):\n",
        "    running_avg[t] = totalrewards[max(0, t-100):(t+1)].mean()\n",
        "  plt.plot(running_avg)\n",
        "  plt.title(\"Running Average\")\n",
        "  plt.show()"
      ],
      "metadata": {
        "id": "-490aYbtszrC"
      },
      "execution_count": 24,
      "outputs": []
    },
    {
      "cell_type": "code",
      "source": [
        "env = gym.make('CartPole-v0')\n",
        "ft = FeatureTransformer()\n",
        "model = Model(env, ft)\n",
        "gamma = 0.9\n",
        "\n",
        "filename = 'cart-pole-bins'\n",
        "monitor_dir = './' + filename + '_' + str(datetime.now())\n",
        "env = wrappers.RecordVideo(env, 'cart-pole-bins')\n",
        "\n",
        "N = 5000\n",
        "totalrewards = np.empty(N)\n",
        "for n in range(N):\n",
        "    eps = 1.0/np.sqrt(n+1)\n",
        "    totalreward = play_one(model, eps, gamma)\n",
        "    totalrewards[n] = totalreward\n",
        "    if n % 100 == 0:\n",
        "      print(\"episode:\", n, \"total reward:\", totalreward, \"eps:\", eps)\n",
        "print(\"avg reward for last 100 episodes:\", totalrewards[-100:].mean())\n",
        "print(\"total steps:\", totalrewards.sum())\n",
        "\n",
        "plt.plot(totalrewards)"
      ],
      "metadata": {
        "colab": {
          "base_uri": "https://localhost:8080/",
          "height": 1000
        },
        "id": "doBLmXBaszxx",
        "outputId": "84a909c4-5a4b-4da4-e09a-9648dbd53214"
      },
      "execution_count": 25,
      "outputs": [
        {
          "output_type": "stream",
          "name": "stderr",
          "text": [
            "/usr/local/lib/python3.10/dist-packages/gym/envs/registration.py:593: UserWarning: \u001b[33mWARN: The environment CartPole-v0 is out of date. You should consider upgrading to version `v1`.\u001b[0m\n",
            "  logger.warn(\n",
            "/usr/local/lib/python3.10/dist-packages/gym/core.py:317: DeprecationWarning: \u001b[33mWARN: Initializing wrapper in old step API which returns one bool instead of two. It is recommended to set `new_step_api=True` to use new step API. This will be the default behaviour in future.\u001b[0m\n",
            "  deprecation(\n",
            "/usr/local/lib/python3.10/dist-packages/gym/wrappers/step_api_compatibility.py:39: DeprecationWarning: \u001b[33mWARN: Initializing environment in old step API which returns one bool instead of two. It is recommended to set `new_step_api=True` to use new step API. This will be the default behaviour in future.\u001b[0m\n",
            "  deprecation(\n",
            "/usr/local/lib/python3.10/dist-packages/gym/wrappers/record_video.py:78: UserWarning: \u001b[33mWARN: Overwriting existing videos at /content/cart-pole-bins folder (try specifying a different `video_folder` for the `RecordVideo` wrapper if this is not desired)\u001b[0m\n",
            "  logger.warn(\n",
            "/usr/local/lib/python3.10/dist-packages/gym/wrappers/monitoring/video_recorder.py:78: DeprecationWarning: \u001b[33mWARN: Recording ability for environment CartPole-v0 initialized with `render_mode=None` is marked as deprecated and will be removed in the future.\u001b[0m\n",
            "  logger.deprecation(\n",
            "/usr/local/lib/python3.10/dist-packages/gym/core.py:43: DeprecationWarning: \u001b[33mWARN: The argument mode in render method is deprecated; use render_mode during environment initialization instead.\n",
            "See here for more information: https://www.gymlibrary.ml/content/api/\u001b[0m\n",
            "  deprecation(\n",
            "/usr/local/lib/python3.10/dist-packages/gym/utils/passive_env_checker.py:241: DeprecationWarning: `np.bool8` is a deprecated alias for `np.bool_`.  (Deprecated NumPy 1.24)\n",
            "  if not isinstance(terminated, (bool, np.bool8)):\n",
            "/usr/local/lib/python3.10/dist-packages/gym/core.py:43: DeprecationWarning: \u001b[33mWARN: The argument mode in render method is deprecated; use render_mode during environment initialization instead.\n",
            "See here for more information: https://www.gymlibrary.ml/content/api/\u001b[0m\n",
            "  deprecation(\n"
          ]
        },
        {
          "output_type": "stream",
          "name": "stdout",
          "text": [
            "episode: 0 total reward: 14.0 eps: 1.0\n"
          ]
        },
        {
          "output_type": "stream",
          "name": "stderr",
          "text": [
            "/usr/local/lib/python3.10/dist-packages/gym/wrappers/monitoring/video_recorder.py:78: DeprecationWarning: \u001b[33mWARN: Recording ability for environment CartPole-v0 initialized with `render_mode=None` is marked as deprecated and will be removed in the future.\u001b[0m\n",
            "  logger.deprecation(\n",
            "/usr/local/lib/python3.10/dist-packages/gym/core.py:43: DeprecationWarning: \u001b[33mWARN: The argument mode in render method is deprecated; use render_mode during environment initialization instead.\n",
            "See here for more information: https://www.gymlibrary.ml/content/api/\u001b[0m\n",
            "  deprecation(\n",
            "/usr/local/lib/python3.10/dist-packages/gym/wrappers/monitoring/video_recorder.py:78: DeprecationWarning: \u001b[33mWARN: Recording ability for environment CartPole-v0 initialized with `render_mode=None` is marked as deprecated and will be removed in the future.\u001b[0m\n",
            "  logger.deprecation(\n",
            "/usr/local/lib/python3.10/dist-packages/gym/core.py:43: DeprecationWarning: \u001b[33mWARN: The argument mode in render method is deprecated; use render_mode during environment initialization instead.\n",
            "See here for more information: https://www.gymlibrary.ml/content/api/\u001b[0m\n",
            "  deprecation(\n",
            "/usr/local/lib/python3.10/dist-packages/gym/wrappers/monitoring/video_recorder.py:78: DeprecationWarning: \u001b[33mWARN: Recording ability for environment CartPole-v0 initialized with `render_mode=None` is marked as deprecated and will be removed in the future.\u001b[0m\n",
            "  logger.deprecation(\n",
            "/usr/local/lib/python3.10/dist-packages/gym/core.py:43: DeprecationWarning: \u001b[33mWARN: The argument mode in render method is deprecated; use render_mode during environment initialization instead.\n",
            "See here for more information: https://www.gymlibrary.ml/content/api/\u001b[0m\n",
            "  deprecation(\n",
            "/usr/local/lib/python3.10/dist-packages/gym/wrappers/monitoring/video_recorder.py:78: DeprecationWarning: \u001b[33mWARN: Recording ability for environment CartPole-v0 initialized with `render_mode=None` is marked as deprecated and will be removed in the future.\u001b[0m\n",
            "  logger.deprecation(\n",
            "/usr/local/lib/python3.10/dist-packages/gym/core.py:43: DeprecationWarning: \u001b[33mWARN: The argument mode in render method is deprecated; use render_mode during environment initialization instead.\n",
            "See here for more information: https://www.gymlibrary.ml/content/api/\u001b[0m\n",
            "  deprecation(\n"
          ]
        },
        {
          "output_type": "stream",
          "name": "stdout",
          "text": [
            "episode: 100 total reward: 29.0 eps: 0.09950371902099892\n"
          ]
        },
        {
          "output_type": "stream",
          "name": "stderr",
          "text": [
            "/usr/local/lib/python3.10/dist-packages/gym/wrappers/monitoring/video_recorder.py:78: DeprecationWarning: \u001b[33mWARN: Recording ability for environment CartPole-v0 initialized with `render_mode=None` is marked as deprecated and will be removed in the future.\u001b[0m\n",
            "  logger.deprecation(\n",
            "/usr/local/lib/python3.10/dist-packages/gym/core.py:43: DeprecationWarning: \u001b[33mWARN: The argument mode in render method is deprecated; use render_mode during environment initialization instead.\n",
            "See here for more information: https://www.gymlibrary.ml/content/api/\u001b[0m\n",
            "  deprecation(\n"
          ]
        },
        {
          "output_type": "stream",
          "name": "stdout",
          "text": [
            "episode: 200 total reward: 44.0 eps: 0.07053456158585983\n"
          ]
        },
        {
          "output_type": "stream",
          "name": "stderr",
          "text": [
            "/usr/local/lib/python3.10/dist-packages/gym/wrappers/monitoring/video_recorder.py:78: DeprecationWarning: \u001b[33mWARN: Recording ability for environment CartPole-v0 initialized with `render_mode=None` is marked as deprecated and will be removed in the future.\u001b[0m\n",
            "  logger.deprecation(\n",
            "/usr/local/lib/python3.10/dist-packages/gym/core.py:43: DeprecationWarning: \u001b[33mWARN: The argument mode in render method is deprecated; use render_mode during environment initialization instead.\n",
            "See here for more information: https://www.gymlibrary.ml/content/api/\u001b[0m\n",
            "  deprecation(\n"
          ]
        },
        {
          "output_type": "stream",
          "name": "stdout",
          "text": [
            "episode: 300 total reward: 68.0 eps: 0.0576390417704235\n"
          ]
        },
        {
          "output_type": "stream",
          "name": "stderr",
          "text": [
            "/usr/local/lib/python3.10/dist-packages/gym/wrappers/monitoring/video_recorder.py:78: DeprecationWarning: \u001b[33mWARN: Recording ability for environment CartPole-v0 initialized with `render_mode=None` is marked as deprecated and will be removed in the future.\u001b[0m\n",
            "  logger.deprecation(\n",
            "/usr/local/lib/python3.10/dist-packages/gym/core.py:43: DeprecationWarning: \u001b[33mWARN: The argument mode in render method is deprecated; use render_mode during environment initialization instead.\n",
            "See here for more information: https://www.gymlibrary.ml/content/api/\u001b[0m\n",
            "  deprecation(\n"
          ]
        },
        {
          "output_type": "stream",
          "name": "stdout",
          "text": [
            "episode: 400 total reward: 25.0 eps: 0.04993761694389223\n",
            "episode: 500 total reward: 58.0 eps: 0.04467670516087703\n"
          ]
        },
        {
          "output_type": "stream",
          "name": "stderr",
          "text": [
            "/usr/local/lib/python3.10/dist-packages/gym/wrappers/monitoring/video_recorder.py:78: DeprecationWarning: \u001b[33mWARN: Recording ability for environment CartPole-v0 initialized with `render_mode=None` is marked as deprecated and will be removed in the future.\u001b[0m\n",
            "  logger.deprecation(\n",
            "/usr/local/lib/python3.10/dist-packages/gym/core.py:43: DeprecationWarning: \u001b[33mWARN: The argument mode in render method is deprecated; use render_mode during environment initialization instead.\n",
            "See here for more information: https://www.gymlibrary.ml/content/api/\u001b[0m\n",
            "  deprecation(\n"
          ]
        },
        {
          "output_type": "stream",
          "name": "stdout",
          "text": [
            "episode: 600 total reward: 172.0 eps: 0.04079085082240021\n",
            "episode: 700 total reward: 128.0 eps: 0.0377694787300249\n"
          ]
        },
        {
          "output_type": "stream",
          "name": "stderr",
          "text": [
            "/usr/local/lib/python3.10/dist-packages/gym/wrappers/monitoring/video_recorder.py:78: DeprecationWarning: \u001b[33mWARN: Recording ability for environment CartPole-v0 initialized with `render_mode=None` is marked as deprecated and will be removed in the future.\u001b[0m\n",
            "  logger.deprecation(\n",
            "/usr/local/lib/python3.10/dist-packages/gym/core.py:43: DeprecationWarning: \u001b[33mWARN: The argument mode in render method is deprecated; use render_mode during environment initialization instead.\n",
            "See here for more information: https://www.gymlibrary.ml/content/api/\u001b[0m\n",
            "  deprecation(\n"
          ]
        },
        {
          "output_type": "stream",
          "name": "stdout",
          "text": [
            "episode: 800 total reward: 130.0 eps: 0.03533326266687867\n",
            "episode: 900 total reward: 124.0 eps: 0.03331483023263848\n"
          ]
        },
        {
          "output_type": "stream",
          "name": "stderr",
          "text": [
            "/usr/local/lib/python3.10/dist-packages/gym/wrappers/monitoring/video_recorder.py:78: DeprecationWarning: \u001b[33mWARN: Recording ability for environment CartPole-v0 initialized with `render_mode=None` is marked as deprecated and will be removed in the future.\u001b[0m\n",
            "  logger.deprecation(\n",
            "/usr/local/lib/python3.10/dist-packages/gym/core.py:43: DeprecationWarning: \u001b[33mWARN: The argument mode in render method is deprecated; use render_mode during environment initialization instead.\n",
            "See here for more information: https://www.gymlibrary.ml/content/api/\u001b[0m\n",
            "  deprecation(\n"
          ]
        },
        {
          "output_type": "stream",
          "name": "stdout",
          "text": [
            "episode: 1000 total reward: 107.0 eps: 0.0316069770620507\n",
            "episode: 1100 total reward: 199.0 eps: 0.03013743873394561\n",
            "episode: 1200 total reward: 127.0 eps: 0.028855492841238062\n",
            "episode: 1300 total reward: 200.0 eps: 0.027724348650071385\n",
            "episode: 1400 total reward: 77.0 eps: 0.02671658425726324\n",
            "episode: 1500 total reward: 110.0 eps: 0.025811286645983367\n",
            "episode: 1600 total reward: 117.0 eps: 0.02499219116020307\n",
            "episode: 1700 total reward: 200.0 eps: 0.024246432248443597\n",
            "episode: 1800 total reward: 57.0 eps: 0.02356368148131365\n",
            "episode: 1900 total reward: 200.0 eps: 0.02293553851298437\n"
          ]
        },
        {
          "output_type": "stream",
          "name": "stderr",
          "text": [
            "/usr/local/lib/python3.10/dist-packages/gym/wrappers/monitoring/video_recorder.py:78: DeprecationWarning: \u001b[33mWARN: Recording ability for environment CartPole-v0 initialized with `render_mode=None` is marked as deprecated and will be removed in the future.\u001b[0m\n",
            "  logger.deprecation(\n",
            "/usr/local/lib/python3.10/dist-packages/gym/core.py:43: DeprecationWarning: \u001b[33mWARN: The argument mode in render method is deprecated; use render_mode during environment initialization instead.\n",
            "See here for more information: https://www.gymlibrary.ml/content/api/\u001b[0m\n",
            "  deprecation(\n"
          ]
        },
        {
          "output_type": "stream",
          "name": "stdout",
          "text": [
            "episode: 2000 total reward: 103.0 eps: 0.022355091700494795\n",
            "episode: 2100 total reward: 104.0 eps: 0.021816595214404266\n",
            "episode: 2200 total reward: 200.0 eps: 0.021315227815974374\n",
            "episode: 2300 total reward: 91.0 eps: 0.02084690996125416\n",
            "episode: 2400 total reward: 184.0 eps: 0.02040816326530612\n",
            "episode: 2500 total reward: 140.0 eps: 0.01999600119960014\n",
            "episode: 2600 total reward: 200.0 eps: 0.0196078431372549\n",
            "episode: 2700 total reward: 200.0 eps: 0.019241446072101123\n",
            "episode: 2800 total reward: 179.0 eps: 0.018894849871330582\n",
            "episode: 2900 total reward: 129.0 eps: 0.018566333001716968\n"
          ]
        },
        {
          "output_type": "stream",
          "name": "stderr",
          "text": [
            "/usr/local/lib/python3.10/dist-packages/gym/wrappers/monitoring/video_recorder.py:78: DeprecationWarning: \u001b[33mWARN: Recording ability for environment CartPole-v0 initialized with `render_mode=None` is marked as deprecated and will be removed in the future.\u001b[0m\n",
            "  logger.deprecation(\n",
            "/usr/local/lib/python3.10/dist-packages/gym/core.py:43: DeprecationWarning: \u001b[33mWARN: The argument mode in render method is deprecated; use render_mode during environment initialization instead.\n",
            "See here for more information: https://www.gymlibrary.ml/content/api/\u001b[0m\n",
            "  deprecation(\n"
          ]
        },
        {
          "output_type": "stream",
          "name": "stdout",
          "text": [
            "episode: 3000 total reward: 200.0 eps: 0.01825437644092281\n",
            "episode: 3100 total reward: 200.0 eps: 0.017957634043632188\n",
            "episode: 3200 total reward: 200.0 eps: 0.01767490804100673\n",
            "episode: 3300 total reward: 149.0 eps: 0.01740512865461766\n",
            "episode: 3400 total reward: 200.0 eps: 0.017147337032429676\n",
            "episode: 3500 total reward: 127.0 eps: 0.01690067088544646\n",
            "episode: 3600 total reward: 200.0 eps: 0.016664352333993333\n",
            "episode: 3700 total reward: 200.0 eps: 0.016437677572823703\n",
            "episode: 3800 total reward: 200.0 eps: 0.01622000804188198\n",
            "episode: 3900 total reward: 200.0 eps: 0.01601076285016887\n"
          ]
        },
        {
          "output_type": "stream",
          "name": "stderr",
          "text": [
            "/usr/local/lib/python3.10/dist-packages/gym/wrappers/monitoring/video_recorder.py:78: DeprecationWarning: \u001b[33mWARN: Recording ability for environment CartPole-v0 initialized with `render_mode=None` is marked as deprecated and will be removed in the future.\u001b[0m\n",
            "  logger.deprecation(\n",
            "/usr/local/lib/python3.10/dist-packages/gym/core.py:43: DeprecationWarning: \u001b[33mWARN: The argument mode in render method is deprecated; use render_mode during environment initialization instead.\n",
            "See here for more information: https://www.gymlibrary.ml/content/api/\u001b[0m\n",
            "  deprecation(\n"
          ]
        },
        {
          "output_type": "stream",
          "name": "stdout",
          "text": [
            "episode: 4000 total reward: 131.0 eps: 0.015809412247806517\n",
            "episode: 4100 total reward: 135.0 eps: 0.015615471979112765\n",
            "episode: 4200 total reward: 132.0 eps: 0.015428498379527544\n",
            "episode: 4300 total reward: 157.0 eps: 0.015248084103296531\n",
            "episode: 4400 total reward: 101.0 eps: 0.015073854388204487\n",
            "episode: 4500 total reward: 162.0 eps: 0.014905463779355262\n",
            "episode: 4600 total reward: 200.0 eps: 0.014742593246782542\n",
            "episode: 4700 total reward: 200.0 eps: 0.014584947642137372\n",
            "episode: 4800 total reward: 200.0 eps: 0.014432253448298278\n",
            "episode: 4900 total reward: 200.0 eps: 0.014284256782850143\n"
          ]
        },
        {
          "output_type": "stream",
          "name": "stderr",
          "text": [
            "/usr/local/lib/python3.10/dist-packages/gym/wrappers/monitoring/video_recorder.py:78: DeprecationWarning: \u001b[33mWARN: Recording ability for environment CartPole-v0 initialized with `render_mode=None` is marked as deprecated and will be removed in the future.\u001b[0m\n",
            "  logger.deprecation(\n"
          ]
        },
        {
          "output_type": "stream",
          "name": "stdout",
          "text": [
            "avg reward for last 100 episodes: 164.49\n",
            "total steps: 702835.0\n"
          ]
        },
        {
          "output_type": "execute_result",
          "data": {
            "text/plain": [
              "[<matplotlib.lines.Line2D at 0x7faaca4106a0>]"
            ]
          },
          "metadata": {},
          "execution_count": 25
        },
        {
          "output_type": "display_data",
          "data": {
            "text/plain": [
              "<Figure size 640x480 with 1 Axes>"
            ],
            "image/png": "[encoded data removed]"
          },
          "metadata": {}
        }
      ]
    }
  ]
}