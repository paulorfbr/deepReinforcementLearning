{
  "nbformat": 4,
  "nbformat_minor": 0,
  "metadata": {
    "colab": {
      "provenance": [],
      "authorship_tag": "ABX9TyNTdJOrMAdAATPseVDfiwJY",
      "include_colab_link": true
    },
    "kernelspec": {
      "name": "python3",
      "display_name": "Python 3"
    },
    "language_info": {
      "name": "python"
    }
  },
  "cells": [
    {
      "cell_type": "markdown",
      "metadata": {
        "id": "view-in-github",
        "colab_type": "text"
      },
      "source": [
        "<a href=\"https://colab.research.google.com/github/paulorfbr/deepReinforcementLearning/blob/tensorflow_part1/Tensorflow_v2.ipynb\" target=\"_parent\"><img src=\"https://colab.research.google.com/assets/colab-badge.svg\" alt=\"Open In Colab\"/></a>"
      ]
    },
    {
      "cell_type": "code",
      "execution_count": 18,
      "metadata": {
        "id": "KkZpWHXnlN7w"
      },
      "outputs": [],
      "source": [
        "import numpy as np\n",
        "import tensorflow as tf"
      ]
    },
    {
      "cell_type": "code",
      "source": [
        "u = tf.Variable(20.0)\n",
        "\n",
        "@tf.function\n",
        "def train(x):\n",
        "  cost = x*x + x + 1.0\n",
        "  tf.compat.v1.train.GradientDescentOptimizer(0.3).minimize(cost, var_list=[x])\n",
        "  return cost\n",
        "\n",
        "for i in range(100):\n",
        "    train(u)\n",
        "\n",
        "print(u)"
      ],
      "metadata": {
        "colab": {
          "base_uri": "https://localhost:8080/"
        },
        "id": "SC2zR-GplYMY",
        "outputId": "f2bed727-9838-4451-d834-7f6a67b69100"
      },
      "execution_count": 19,
      "outputs": [
        {
          "output_type": "stream",
          "name": "stdout",
          "text": [
            "<tf.Variable 'Variable:0' shape=() dtype=float32, numpy=-0.49999997>\n"
          ]
        }
      ]
    }
  ]
}